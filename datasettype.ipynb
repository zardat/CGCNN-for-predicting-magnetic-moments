{
 "cells": [
  {
   "cell_type": "markdown",
   "metadata": {},
   "source": [
    "Dataset type 1 (DST-1)- All (8 TM based materials) data of all ordering"
   ]
  },
  {
   "cell_type": "code",
   "execution_count": null,
   "metadata": {},
   "outputs": [
    {
     "name": "stdout",
     "output_type": "stream",
     "text": [
      "Cr shape: (1903, 3)\n",
      "All shape: (20990, 3)\n",
      "Initial shape: (22893, 3)\n",
      "after removing duplicates: (22399, 3)\n",
      "Files merged and duplicates removed successfully! Output saved as new_data/merged_id_prop.csv.\n"
     ]
    }
   ],
   "source": [
    "import pandas as pd\n",
    "\n",
    "# Load the CSV files\n",
    "file_cr = \"directory_norm/id_prop_Cr.csv\"\n",
    "file_all = \"directory_norm/id_prop_all.csv\"\n",
    "\n",
    "# Read the CSV files into DataFrames, treating columns as unnamed\n",
    "# Assuming all files have the same sequence and structure\n",
    "col_names = [\"Column1\", \"Column2\", \"Column3\"]  # Assign temporary column names\n",
    "df_cr = pd.read_csv(file_cr, header=None, names=col_names)\n",
    "df_all = pd.read_csv(file_all, header=None, names=col_names)\n",
    "print(f\"Cr shape: {df_cr.shape}\")\n",
    "print(f\"All shape: {df_all.shape}\")\n",
    "\n",
    "# Merge the DataFrames by appending df_cr to df_all\n",
    "merged_df = pd.concat([df_all, df_cr], ignore_index=True)\n",
    "print(f\"Initial shape: {merged_df.shape}\")\n",
    "\n",
    "# Remove duplicates based on the first column (assumed to have material IDs)\n",
    "merged_df = merged_df.drop_duplicates(subset=\"Column1\", keep='first')\n",
    "print(f\"after removing duplicates: {merged_df.shape}\")\n",
    "\n",
    "# Save the merged DataFrame back to a CSV file\n",
    "output_file = \"my_new_data/id_prop_All.csv\"\n",
    "merged_df.to_csv(output_file, index=False, header=False)  # Save without headers\n",
    "\n",
    "print(f\"Files merged and duplicates removed successfully! Output saved as {output_file}.\")\n"
   ]
  },
  {
   "cell_type": "markdown",
   "metadata": {},
   "source": [
    "Dataset type 1 (DST-1)- All (8 TM based materials) data of all ordering by conbining individual TM based Materials"
   ]
  },
  {
   "cell_type": "code",
   "execution_count": 18,
   "metadata": {},
   "outputs": [
    {
     "name": "stdout",
     "output_type": "stream",
     "text": [
      "V shape: (3413, 3)\n",
      "Cr shape: (1903, 3)\n",
      "Mn shape: (4576, 3)\n",
      "fe shape: (4971, 3)\n",
      "Co shape: (4177, 3)\n",
      "Ni shape: (4133, 3)\n",
      "Cu shape: (1279, 3)\n",
      "Mo shape: (2023, 3)\n",
      "Initial shape: (26475, 3)\n",
      "after removing duplicates: (23393, 3)\n",
      "Files merged and duplicates removed successfully! Output saved as my_new_data/id_prop_All_combine_individually.csv.\n"
     ]
    }
   ],
   "source": [
    "import pandas as pd\n",
    "\n",
    "# Load the CSV files\n",
    "file_1 = \"directory_norm/id_prop_V.csv\"\n",
    "file_2 = \"directory_norm/id_prop_Cr.csv\"\n",
    "file_3 = \"directory_norm/id_prop_Mn.csv\"\n",
    "file_4 = \"directory_norm/id_prop_Fe.csv\"\n",
    "file_5 = \"directory_norm/id_prop_Co.csv\"\n",
    "file_6 = \"directory_norm/id_prop_Ni.csv\"\n",
    "file_7 = \"directory_norm/id_prop_Cu.csv\"\n",
    "file_8 = \"directory_norm/id_prop_Mo.csv\"\n",
    "\n",
    "# Read the CSV files into DataFrames, treating columns as unnamed\n",
    "# Assuming all files have the same sequence and structure\n",
    "col_names = [\"Column1\", \"Column2\", \"Column3\"]  # Assign temporary column names\n",
    "df_1 = pd.read_csv(file_1, header=None, names=col_names)\n",
    "df_2 = pd.read_csv(file_2, header=None, names=col_names)\n",
    "df_3 = pd.read_csv(file_3, header=None, names=col_names)\n",
    "df_4 = pd.read_csv(file_4, header=None, names=col_names)\n",
    "df_5 = pd.read_csv(file_5, header=None, names=col_names)\n",
    "df_6 = pd.read_csv(file_6, header=None, names=col_names)\n",
    "df_7 = pd.read_csv(file_7, header=None, names=col_names)\n",
    "df_8 = pd.read_csv(file_8, header=None, names=col_names)\n",
    "\n",
    "print(f\"V shape: {df_1.shape}\")\n",
    "print(f\"Cr shape: {df_2.shape}\")\n",
    "print(f\"Mn shape: {df_3.shape}\")\n",
    "print(f\"fe shape: {df_4.shape}\")\n",
    "print(f\"Co shape: {df_5.shape}\")\n",
    "print(f\"Ni shape: {df_6.shape}\")\n",
    "print(f\"Cu shape: {df_7.shape}\")\n",
    "print(f\"Mo shape: {df_8.shape}\")\n",
    "\n",
    "# Merge the DataFrames by appending df_cr to df_all\n",
    "merged_df = pd.concat([df_1, df_2,df_3,df_4,df_5,df_6,df_7,df_8], ignore_index=True)\n",
    "print(f\"Initial shape: {merged_df.shape}\")\n",
    "\n",
    "# Remove duplicates based on the first column (assumed to have material IDs)\n",
    "merged_df = merged_df.drop_duplicates(subset=\"Column1\", keep='first')\n",
    "print(f\"after removing duplicates: {merged_df.shape}\")\n",
    "\n",
    "# Save the merged DataFrame back to a CSV file\n",
    "output_file = \"my_new_data/id_prop_All_combine_individually.csv\"\n",
    "merged_df.to_csv(output_file, index=False, header=False)  # Save without headers\n",
    "\n",
    "print(f\"Files merged and duplicates removed successfully! Output saved as {output_file}.\")\n"
   ]
  },
  {
   "cell_type": "markdown",
   "metadata": {},
   "source": [
    "DST-1 : DS-1b : All FM (8 TM based materials) data of all ordering by conbining individual TM based FM Materials"
   ]
  },
  {
   "cell_type": "code",
   "execution_count": 19,
   "metadata": {},
   "outputs": [
    {
     "name": "stdout",
     "output_type": "stream",
     "text": [
      "V shape: (1932, 3)\n",
      "Cr shape: (1590, 3)\n",
      "Mn shape: (3398, 3)\n",
      "fe shape: (3179, 3)\n",
      "Co shape: (2122, 3)\n",
      "Ni shape: (1759, 3)\n",
      "Cu shape: (943, 3)\n",
      "Mo shape: (739, 3)\n",
      "Initial shape: (15662, 3)\n",
      "after removing duplicates: (13692, 3)\n",
      "Files merged and duplicates removed successfully! Output saved as my_new_data/id_prop_All_FM.csv.\n"
     ]
    }
   ],
   "source": [
    "import pandas as pd\n",
    "\n",
    "# Load the CSV files\n",
    "file_1 = \"directory_norm/id_prop_V_FM.csv\"\n",
    "file_2 = \"directory_norm/id_prop_Cr_FM.csv\"\n",
    "file_3 = \"directory_norm/id_prop_Mn_FM.csv\"\n",
    "file_4 = \"directory_norm/id_prop_Fe_FM.csv\"\n",
    "file_5 = \"directory_norm/id_prop_Co_FM.csv\"\n",
    "file_6 = \"directory_norm/id_prop_Ni_FM.csv\"\n",
    "file_7 = \"directory_norm/id_prop_Cu_FM.csv\"\n",
    "file_8 = \"directory_norm/id_prop_Mo_FM.csv\"\n",
    "\n",
    "# Read the CSV files into DataFrames, treating columns as unnamed\n",
    "# Assuming all files have the same sequence and structure\n",
    "col_names = [\"Column1\", \"Column2\", \"Column3\"]  # Assign temporary column names\n",
    "df_1 = pd.read_csv(file_1, header=None, names=col_names)\n",
    "df_2 = pd.read_csv(file_2, header=None, names=col_names)\n",
    "df_3 = pd.read_csv(file_3, header=None, names=col_names)\n",
    "df_4 = pd.read_csv(file_4, header=None, names=col_names)\n",
    "df_5 = pd.read_csv(file_5, header=None, names=col_names)\n",
    "df_6 = pd.read_csv(file_6, header=None, names=col_names)\n",
    "df_7 = pd.read_csv(file_7, header=None, names=col_names)\n",
    "df_8 = pd.read_csv(file_8, header=None, names=col_names)\n",
    "\n",
    "print(f\"V shape: {df_1.shape}\")\n",
    "print(f\"Cr shape: {df_2.shape}\")\n",
    "print(f\"Mn shape: {df_3.shape}\")\n",
    "print(f\"fe shape: {df_4.shape}\")\n",
    "print(f\"Co shape: {df_5.shape}\")\n",
    "print(f\"Ni shape: {df_6.shape}\")\n",
    "print(f\"Cu shape: {df_7.shape}\")\n",
    "print(f\"Mo shape: {df_8.shape}\")\n",
    "\n",
    "# Merge the DataFrames by appending df_cr to df_all\n",
    "merged_df = pd.concat([df_1, df_2,df_3,df_4,df_5,df_6,df_7,df_8], ignore_index=True)\n",
    "print(f\"Initial shape: {merged_df.shape}\")\n",
    "\n",
    "# Remove duplicates based on the first column (assumed to have material IDs)\n",
    "merged_df = merged_df.drop_duplicates(subset=\"Column1\", keep='first')\n",
    "print(f\"after removing duplicates: {merged_df.shape}\")\n",
    "\n",
    "# Save the merged DataFrame back to a CSV file\n",
    "output_file = \"my_new_data/id_prop_All_FiM.csv\"\n",
    "merged_df.to_csv(output_file, index=False, header=False)  # Save without headers\n",
    "\n",
    "print(f\"Files merged and duplicates removed successfully! Output saved as {output_file}.\")\n"
   ]
  },
  {
   "cell_type": "markdown",
   "metadata": {},
   "source": [
    "DST-1 : DS-1c : All FiM (8 TM based materials) data of all ordering by conbining individual TM based FiM Materials"
   ]
  },
  {
   "cell_type": "code",
   "execution_count": 21,
   "metadata": {},
   "outputs": [
    {
     "name": "stdout",
     "output_type": "stream",
     "text": [
      "V shape: (384, 3)\n",
      "Cr shape: (311, 3)\n",
      "Mn shape: (833, 3)\n",
      "fe shape: (1265, 3)\n",
      "Co shape: (978, 3)\n",
      "Ni shape: (484, 3)\n",
      "Cu shape: (334, 3)\n",
      "Mo shape: (150, 3)\n",
      "Initial shape: (4739, 3)\n",
      "after removing duplicates: (3848, 3)\n",
      "Files merged and duplicates removed successfully! Output saved as my_new_data/id_prop_All_FiM.csv.\n"
     ]
    }
   ],
   "source": [
    "import pandas as pd\n",
    "\n",
    "# Load the CSV files\n",
    "file_1 = \"directory_norm/id_prop_V_FiM.csv\"\n",
    "file_2 = \"directory_norm/id_prop_Cr_FiM.csv\"\n",
    "file_3 = \"directory_norm/id_prop_Mn_FiM.csv\"\n",
    "file_4 = \"directory_norm/id_prop_Fe_FiM.csv\"\n",
    "file_5 = \"directory_norm/id_prop_Co_FiM.csv\"\n",
    "file_6 = \"directory_norm/id_prop_Ni_FiM.csv\"\n",
    "file_7 = \"directory_norm/id_prop_Cu_FiM.csv\"\n",
    "file_8 = \"directory_norm/id_prop_Mo_FiM.csv\"\n",
    "\n",
    "# Read the CSV files into DataFrames, treating columns as unnamed\n",
    "# Assuming all files have the same sequence and structure\n",
    "col_names = [\"Column1\", \"Column2\", \"Column3\"]  # Assign temporary column names\n",
    "df_1 = pd.read_csv(file_1, header=None, names=col_names)\n",
    "df_2 = pd.read_csv(file_2, header=None, names=col_names)\n",
    "df_3 = pd.read_csv(file_3, header=None, names=col_names)\n",
    "df_4 = pd.read_csv(file_4, header=None, names=col_names)\n",
    "df_5 = pd.read_csv(file_5, header=None, names=col_names)\n",
    "df_6 = pd.read_csv(file_6, header=None, names=col_names)\n",
    "df_7 = pd.read_csv(file_7, header=None, names=col_names)\n",
    "df_8 = pd.read_csv(file_8, header=None, names=col_names)\n",
    "\n",
    "print(f\"V shape: {df_1.shape}\")\n",
    "print(f\"Cr shape: {df_2.shape}\")\n",
    "print(f\"Mn shape: {df_3.shape}\")\n",
    "print(f\"fe shape: {df_4.shape}\")\n",
    "print(f\"Co shape: {df_5.shape}\")\n",
    "print(f\"Ni shape: {df_6.shape}\")\n",
    "print(f\"Cu shape: {df_7.shape}\")\n",
    "print(f\"Mo shape: {df_8.shape}\")\n",
    "\n",
    "# Merge the DataFrames by appending df_cr to df_all\n",
    "merged_df = pd.concat([df_1, df_2,df_3,df_4,df_5,df_6,df_7,df_8], ignore_index=True)\n",
    "print(f\"Initial shape: {merged_df.shape}\")\n",
    "\n",
    "# Remove duplicates based on the first column (assumed to have material IDs)\n",
    "merged_df = merged_df.drop_duplicates(subset=\"Column1\", keep='first')\n",
    "print(f\"after removing duplicates: {merged_df.shape}\")\n",
    "\n",
    "# Save the merged DataFrame back to a CSV file\n",
    "output_file = \"my_new_data/id_prop_All_FiM.csv\"\n",
    "merged_df.to_csv(output_file, index=False, header=False)  # Save without headers\n",
    "\n",
    "print(f\"Files merged and duplicates removed successfully! Output saved as {output_file}.\")\n",
    "\n"
   ]
  },
  {
   "cell_type": "markdown",
   "metadata": {},
   "source": [
    "checking shapes of all datasets"
   ]
  },
  {
   "cell_type": "code",
   "execution_count": 20,
   "metadata": {},
   "outputs": [
    {
     "name": "stdout",
     "output_type": "stream",
     "text": [
      "shape: (150, 3)\n"
     ]
    }
   ],
   "source": [
    "import pandas as pd\n",
    "col_names = [\"Column1\", \"Column2\", \"Column3\"]  # Assign temporary column names\n",
    "\n",
    "# Load the CSV files\n",
    "file_1 = \"my_new_data/id_prop_Mo_FiM.csv\"\n",
    "df_1 = pd.read_csv(file_1, header=None, names=col_names)\n",
    "print(f\"shape: {df_1.shape}\")\n"
   ]
  },
  {
   "cell_type": "code",
   "execution_count": null,
   "metadata": {},
   "outputs": [],
   "source": []
  }
 ],
 "metadata": {
  "kernelspec": {
   "display_name": ".venv",
   "language": "python",
   "name": "python3"
  },
  "language_info": {
   "codemirror_mode": {
    "name": "ipython",
    "version": 3
   },
   "file_extension": ".py",
   "mimetype": "text/x-python",
   "name": "python",
   "nbconvert_exporter": "python",
   "pygments_lexer": "ipython3",
   "version": "3.11.9"
  }
 },
 "nbformat": 4,
 "nbformat_minor": 2
}
